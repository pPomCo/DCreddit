{
 "cells": [
  {
   "cell_type": "code",
   "execution_count": 36,
   "metadata": {},
   "outputs": [],
   "source": [
    "from collections import Counter\n",
    "import sqlite3, math, csv, re\n",
    "import pandas as pd\n",
    "from emoji import UNICODE_EMOJI\n",
    "\n",
    "import matplotlib.pyplot as plt\n",
    "import seaborn as sns\n",
    "import numpy as np\n",
    "import datetime\n",
    "%matplotlib inline\n",
    "#%matplotlib qt\n",
    "\n",
    "import nltk\n",
    "from nltk.corpus import stopwords\n",
    "from nltk.tokenize import word_tokenize \n",
    "stop_words = set(stopwords.words('english')) \n",
    "\n",
    "from sklearn.model_selection import train_test_split\n",
    "from sklearn.metrics import auc, accuracy_score, confusion_matrix, mean_absolute_error\n",
    "import xgboost as xgb"
   ]
  },
  {
   "cell_type": "code",
   "execution_count": 3,
   "metadata": {},
   "outputs": [],
   "source": [
    "db = \"/home/jeslev/Downloads/sample_3days.sqlite\"\n",
    "\n",
    "conn = sqlite3.connect(db)\n",
    "c = conn.cursor()"
   ]
  },
  {
   "cell_type": "code",
   "execution_count": 12,
   "metadata": {},
   "outputs": [],
   "source": [
    "# original DB sample, without users removed\n",
    "db = \"/home/jeslev/Downloads/sample_3days.sqlite.bkp\"\n",
    "\n",
    "conn = sqlite3.connect(db)\n",
    "c = conn.cursor()"
   ]
  },
  {
   "cell_type": "code",
   "execution_count": 3,
   "metadata": {},
   "outputs": [
    {
     "name": "stdout",
     "output_type": "stream",
     "text": [
      "(4507592,)\n"
     ]
    }
   ],
   "source": [
    "#test query\n",
    "query = \"SELECT count(*)  FROM May2015 \"\n",
    "\n",
    "\n",
    "lines = c.execute(query)\n",
    "for line in lines:\n",
    "    print(line)"
   ]
  },
  {
   "cell_type": "markdown",
   "metadata": {},
   "source": [
    "# Cleaning dataset (removing users)"
   ]
  },
  {
   "cell_type": "markdown",
   "metadata": {},
   "source": [
    "We select all users with less than 7000 comments in the complete month because there is almost impossible to have more than that amount for a human being."
   ]
  },
  {
   "cell_type": "code",
   "execution_count": 35,
   "metadata": {},
   "outputs": [],
   "source": [
    "banned_users = \"'', '[deleted]', 'AutoModerator', 'autowikibot', 'TweetsInCommentsBot', 'TweetPoster', 'TrollaBot', 'MTGCardFetcher', 'havoc_bot', 'TotesMessenger', 'TheNitromeFan', 'PoliticBot', 'autotldr', 'Late_Night_Grumbler', 'SharksPwn', 'WritingPromptsRobot', 'atomicimploder', 'Marvelvsdc00'\""
   ]
  },
  {
   "cell_type": "code",
   "execution_count": 36,
   "metadata": {},
   "outputs": [],
   "source": [
    "# DELETE users identified as bots or deleted\n",
    "query = \"DELETE  FROM May2015 WHERE author IN  (\"+banned_users+\") \"\n",
    "#query\n",
    "\n",
    "l = c.execute(query)\n",
    "conn.commit()\n",
    "\n",
    "# Total comments: 4507592"
   ]
  },
  {
   "cell_type": "code",
   "execution_count": 4,
   "metadata": {},
   "outputs": [
    {
     "name": "stdout",
     "output_type": "stream",
     "text": [
      "('Removedpixel', 't5_2u9jq', 'counting', 2113)\n",
      "('reginaldtato', 't5_2qm4e', 'askscience', 1920)\n",
      "('Mooraell', 't5_2u9jq', 'counting', 1270)\n",
      "('sontato', 't5_2qj7m', 'mobileweb', 1171)\n",
      "('Car5V', 't5_2r8c5', 'jailbreak', 979)\n",
      "('NoBreadsticks', 't5_2u9jq', 'counting', 960)\n",
      "('LittleHelperRobot', 't5_2r8tu', 'woahdude', 877)\n",
      "('Look_Its_Mila', 't5_34k5q', 'CampHalfBloodRP', 831)\n",
      "('aussie1530', 't5_33z5m', 'TheDescendantsOfRome', 773)\n",
      "('Thaddeus-J-Spiderman', 't5_31uz5', 'XMenRP', 735)\n",
      "('reddtipbot', 't5_37mhq', 'GetFairShare', 724)\n",
      "('SkydivingHaylz', 't5_2ub11', 'Pokemongiveaway', 623)\n",
      "('rollme', 't5_30yfr', 'worldpowers', 603)\n",
      "('CallMeEzra', 't5_323oy', 'CasualConversation', 599)\n",
      "('the_stormborn', 't5_31uz5', 'XMenRP', 599)\n",
      "('imgurtranscriber', 't5_2s7tt', 'AdviceAnimals', 542)\n",
      "('Koemi_Rapp', 't5_33lo3', 'YamakuHighSchool', 532)\n",
      "('GustavoFrings', 't5_2qh1i', 'AskReddit', 523)\n",
      "('GoomyTooOP', 't5_2ub11', 'Pokemongiveaway', 521)\n",
      "('tipnyan', 't5_37mhq', 'GetFairShare', 500)\n"
     ]
    }
   ],
   "source": [
    "# most popular subreddits by  authors\n",
    "lines = c.execute(\"SELECT author,subreddit_id, subreddit, count(*) as FreqCmt  FROM May2015 GROUP BY author ORDER BY FreqCmt DESC LIMIT 20\")\n",
    "for line in lines:\n",
    "    print(line)"
   ]
  },
  {
   "cell_type": "code",
   "execution_count": 5,
   "metadata": {},
   "outputs": [
    {
     "name": "stdout",
     "output_type": "stream",
     "text": [
      "('t5_1a8ah', 'obama', -18, 13, 2.6)\n",
      "('t5_1efbr', 'ads', -6, 12, 1.8804347826086956)\n",
      "('t5_1rqwi', 'netsec', -13, 56, 4.053691275167785)\n",
      "('t5_21nj', 'request', 1, 1, 1.0)\n",
      "('t5_22i0', 'de', -34, 71, 3.8793456032719837)\n",
      "('t5_22i2', 'es', 0, 1, 0.75)\n",
      "('t5_247e', 'no', 1, 1, 1.0)\n",
      "('t5_247h', 'ca', 1, 1, 1.0)\n",
      "('t5_247i', 'ru', 0, 0, 0.0)\n",
      "('t5_2cneq', 'politics', -96, 3663, 6.805849655902594)\n",
      "('t5_2fwo', 'programming', -47, 750, 5.55655686761964)\n",
      "('t5_2h84o', 'bugs', -1, 3, 1.3409090909090908)\n",
      "('t5_2qgzg', 'business', -29, 68, 3.657967032967033)\n",
      "('t5_2qgzt', 'gadgets', -35, 1406, 5.303804347826087)\n",
      "('t5_2qgzy', 'sports', -79, 3431, 10.217625)\n",
      "('t5_2qh03', 'gaming', -225, 4480, 9.717256926768963)\n",
      "('t5_2qh0f', 'entertainment', -23, 88, 4.349137931034483)\n",
      "('t5_2qh0k', 'cogsci', 1, 7, 3.5)\n",
      "('t5_2qh0n', 'math', -19, 349, 6.3316023738872405)\n",
      "('t5_2qh0p', 'robotics', -2, 10, 1.912621359223301)\n"
     ]
    }
   ],
   "source": [
    "# avg ups per subreddit\n",
    "lines = c.execute(\"SELECT subreddit_id, subreddit, MIN(ups), MAX(ups), AVG(ups)  FROM May2015 GROUP BY subreddit_id LIMIT 20\")\n",
    "for line in lines:\n",
    "    print(line)"
   ]
  },
  {
   "cell_type": "markdown",
   "metadata": {},
   "source": [
    "## Preparing train/test set"
   ]
  },
  {
   "cell_type": "code",
   "execution_count": 38,
   "metadata": {},
   "outputs": [
    {
     "data": {
      "text/plain": [
       "4507592"
      ]
     },
     "execution_count": 38,
     "metadata": {},
     "output_type": "execute_result"
    }
   ],
   "source": [
    "lines = c.execute(\"SELECT count(*) FROM May2015\")\n",
    "tot = 0\n",
    "for line in lines:\n",
    "    tot = line[0]\n",
    "tot"
   ]
  },
  {
   "cell_type": "code",
   "execution_count": 41,
   "metadata": {},
   "outputs": [],
   "source": [
    "lines = c.execute(\"SELECT id FROM May2015 ORDER BY created_utc ASC\")\n",
    "ids_train, ids_test= [], []\n",
    "limit = 2*tot/3\n",
    "\n",
    "ftr = open('trainID.txt','w')\n",
    "fts = open('testID.txt','w')\n",
    "for idx,item in enumerate(lines):\n",
    "    if idx<limit:\n",
    "        ftr.write(\"%s\\n\" % item)\n",
    "    else:\n",
    "        fts.write(\"%s\\n\" % item)\n",
    "ftr.close()\n",
    "fts.close()"
   ]
  },
  {
   "cell_type": "markdown",
   "metadata": {},
   "source": [
    "## Select subsample with 1.5M to analyze features"
   ]
  },
  {
   "cell_type": "code",
   "execution_count": 36,
   "metadata": {},
   "outputs": [],
   "source": [
    "lines = c.execute(\"SELECT created_utc, ups, subreddit_id, id, gilded, author, body, parent_id FROM May2015 ORDER BY created_utc ASC LIMIT 1500000\")\n",
    "columns = [\"created_utc\", \"ups\", \"subreddit_id\", \"id\", \"gilded\", \"author\", \"body\", \"parent_id\"]\n",
    "data = []\n",
    "for line in lines:\n",
    "    data.append(list(line))"
   ]
  },
  {
   "cell_type": "code",
   "execution_count": 37,
   "metadata": {},
   "outputs": [],
   "source": [
    "df = pd.DataFrame(data, columns=columns)"
   ]
  },
  {
   "cell_type": "code",
   "execution_count": 45,
   "metadata": {},
   "outputs": [
    {
     "data": {
      "text/html": [
       "<div>\n",
       "<style scoped>\n",
       "    .dataframe tbody tr th:only-of-type {\n",
       "        vertical-align: middle;\n",
       "    }\n",
       "\n",
       "    .dataframe tbody tr th {\n",
       "        vertical-align: top;\n",
       "    }\n",
       "\n",
       "    .dataframe thead th {\n",
       "        text-align: right;\n",
       "    }\n",
       "</style>\n",
       "<table border=\"1\" class=\"dataframe\">\n",
       "  <thead>\n",
       "    <tr style=\"text-align: right;\">\n",
       "      <th></th>\n",
       "      <th>created_utc</th>\n",
       "      <th>ups</th>\n",
       "      <th>subreddit_id</th>\n",
       "      <th>id</th>\n",
       "      <th>gilded</th>\n",
       "      <th>author</th>\n",
       "      <th>body</th>\n",
       "      <th>parent_id</th>\n",
       "    </tr>\n",
       "  </thead>\n",
       "  <tbody>\n",
       "    <tr>\n",
       "      <td>1499995</td>\n",
       "      <td>1430515265</td>\n",
       "      <td>1</td>\n",
       "      <td>t5_2rfxx</td>\n",
       "      <td>cqvfm51</td>\n",
       "      <td>0</td>\n",
       "      <td>gpm479</td>\n",
       "      <td>Oh haha, didn't realize that! Good to know. Ly...</td>\n",
       "      <td>t1_cqvf4wr</td>\n",
       "    </tr>\n",
       "    <tr>\n",
       "      <td>1499996</td>\n",
       "      <td>1430515265</td>\n",
       "      <td>2</td>\n",
       "      <td>t5_2t403</td>\n",
       "      <td>cqvfm52</td>\n",
       "      <td>0</td>\n",
       "      <td>Carbon_Dirt</td>\n",
       "      <td>[](/fluttertree)Pine!</td>\n",
       "      <td>t1_cqvfk6q</td>\n",
       "    </tr>\n",
       "    <tr>\n",
       "      <td>1499997</td>\n",
       "      <td>1430515265</td>\n",
       "      <td>16</td>\n",
       "      <td>t5_2qhj4</td>\n",
       "      <td>cqvfm53</td>\n",
       "      <td>0</td>\n",
       "      <td>cmdertx</td>\n",
       "      <td>Maybe you would, but I remember a certain DWI/...</td>\n",
       "      <td>t1_cqvf0a6</td>\n",
       "    </tr>\n",
       "    <tr>\n",
       "      <td>1499998</td>\n",
       "      <td>1430515265</td>\n",
       "      <td>2</td>\n",
       "      <td>t5_2sh9s</td>\n",
       "      <td>cqvfm54</td>\n",
       "      <td>0</td>\n",
       "      <td>x1498</td>\n",
       "      <td>De hecho los saqueadores son solo pequeños gru...</td>\n",
       "      <td>t1_cqvadla</td>\n",
       "    </tr>\n",
       "    <tr>\n",
       "      <td>1499999</td>\n",
       "      <td>1430515265</td>\n",
       "      <td>-1</td>\n",
       "      <td>t5_2cneq</td>\n",
       "      <td>cqvfm55</td>\n",
       "      <td>0</td>\n",
       "      <td>FortMark</td>\n",
       "      <td>Police should just stay away from crime ridden...</td>\n",
       "      <td>t3_34ix05</td>\n",
       "    </tr>\n",
       "  </tbody>\n",
       "</table>\n",
       "</div>"
      ],
      "text/plain": [
       "         created_utc  ups subreddit_id       id  gilded       author  \\\n",
       "1499995   1430515265    1     t5_2rfxx  cqvfm51       0       gpm479   \n",
       "1499996   1430515265    2     t5_2t403  cqvfm52       0  Carbon_Dirt   \n",
       "1499997   1430515265   16     t5_2qhj4  cqvfm53       0      cmdertx   \n",
       "1499998   1430515265    2     t5_2sh9s  cqvfm54       0        x1498   \n",
       "1499999   1430515265   -1     t5_2cneq  cqvfm55       0     FortMark   \n",
       "\n",
       "                                                      body   parent_id  \n",
       "1499995  Oh haha, didn't realize that! Good to know. Ly...  t1_cqvf4wr  \n",
       "1499996                              [](/fluttertree)Pine!  t1_cqvfk6q  \n",
       "1499997  Maybe you would, but I remember a certain DWI/...  t1_cqvf0a6  \n",
       "1499998  De hecho los saqueadores son solo pequeños gru...  t1_cqvadla  \n",
       "1499999  Police should just stay away from crime ridden...   t3_34ix05  "
      ]
     },
     "execution_count": 45,
     "metadata": {},
     "output_type": "execute_result"
    }
   ],
   "source": [
    "df.tail()"
   ]
  },
  {
   "cell_type": "markdown",
   "metadata": {},
   "source": [
    "## Extract direct features from table"
   ]
  },
  {
   "cell_type": "code",
   "execution_count": 4,
   "metadata": {},
   "outputs": [],
   "source": [
    "def findURL(string): \n",
    "    # findall() has been used  \n",
    "    # with valid conditions for urls in string \n",
    "    urls = re.findall('http[s]?://(?:[a-zA-Z]|[0-9]|[$-_@.&+]|[!*\\(\\),]|(?:%[0-9a-fA-F][0-9a-fA-F]))+', string)\n",
    "    return urls \n",
    "      \n",
    "def removeURL(string): \n",
    "    # findall() has been used  \n",
    "    # with valid conditions for urls in string \n",
    "    text = re.sub('http[s]?://(?:[a-zA-Z]|[0-9]|[$-_@.&+]|[!*\\(\\),]|(?:%[0-9a-fA-F][0-9a-fA-F]))+', '',string)\n",
    "    return text \n",
    "\n",
    "def has_emoji(s):\n",
    "    count = 0\n",
    "    for emoji in UNICODE_EMOJI:\n",
    "        count += s.count(emoji)\n",
    "    return count\n",
    "\n",
    "def remove_emoji(text):\n",
    "    for emoji in UNICODE_EMOJI:\n",
    "        text = text.replace(emoji,'')\n",
    "    return text\n",
    "\n",
    "def getStyleFeatures(row):\n",
    "    '''\n",
    "    Features: # urls, # emojis, bool for signs, # words in body\n",
    "    '''\n",
    "    text = row['body']\n",
    "    text = text.lower()\n",
    "    \n",
    "    n_urls = 0\n",
    "    n_emojis = 0\n",
    "    \n",
    "    urls = findURL(text)\n",
    "    n_urls = len(urls)\n",
    "    #remove URLs\n",
    "    text = removeURL(text)\n",
    "    \n",
    "    # find emojis\n",
    "    n_emojis = has_emoji(text)\n",
    "    text = remove_emoji(text)\n",
    "    \n",
    "    signs = re.findall('[^a-zA-Z\\d\\s:]+',text)\n",
    "    n_signs = 0\n",
    "    if len(signs)>0:\n",
    "        n_signs = 1\n",
    "        #print(signs,text)\n",
    "    text = re.sub('[^a-zA-Z\\d\\s:]+',' ',text)\n",
    "    \n",
    "    word_tokens = word_tokenize(text) \n",
    "    filtered_text = [w for w in word_tokens if not w in stop_words] \n",
    "    richesse = len(set(filtered_text))\n",
    "    vector = [richesse, n_urls, n_emojis, n_signs, row['ups'], row['id']]\n",
    "    \n",
    "    return vector#, \" \".join(filtered_text)"
   ]
  },
  {
   "cell_type": "code",
   "execution_count": 7,
   "metadata": {
    "scrolled": true
   },
   "outputs": [
    {
     "name": "stdout",
     "output_type": "stream",
     "text": [
      "100000\n",
      "200000\n",
      "300000\n",
      "400000\n",
      "500000\n",
      "600000\n",
      "700000\n",
      "800000\n",
      "900000\n",
      "1000000\n",
      "1100000\n",
      "1200000\n",
      "1300000\n",
      "1400000\n"
     ]
    }
   ],
   "source": [
    "# get features from subsample\n",
    "feats = []\n",
    "cnt = 0\n",
    "for index, row in df.iterrows():\n",
    "    ft = getStyleFeatures(row)\n",
    "    #if cnt<10:\n",
    "    #    print(ft)\n",
    "    if ft[0]==0:\n",
    "        continue\n",
    "    feats.append(ft)\n",
    "    cnt+=1\n",
    "    if cnt%100000==0:\n",
    "        print(cnt)\n",
    "    #print(txt)"
   ]
  },
  {
   "cell_type": "code",
   "execution_count": 40,
   "metadata": {},
   "outputs": [],
   "source": [
    "# oops!, i forgot to obtain the day from time column\n",
    "selected_ids = set(df2['id'])\n",
    "days = []\n",
    "cnt = 0\n",
    "for index, row in df.iterrows():\n",
    "    if row['id'] in selected_ids:\n",
    "        days.append(datetime.datetime.utcfromtimestamp(seconds).day)"
   ]
  },
  {
   "cell_type": "code",
   "execution_count": 8,
   "metadata": {},
   "outputs": [],
   "source": [
    "# save to a file (it takes >2h to recompute!)\n",
    "cols = ['Vocab','Urls','Emojis','Signs','UPS','id']\n",
    "df2 = pd.DataFrame(feats, columns=cols)\n",
    "df2.to_csv('feats.csv',index=False, sep='\\t')"
   ]
  },
  {
   "cell_type": "code",
   "execution_count": 43,
   "metadata": {},
   "outputs": [],
   "source": [
    "# adding the  days columns i forgot\n",
    "df2['days'] = days\n",
    "df2.to_csv('feats.csv',index=False, sep='\\t')"
   ]
  },
  {
   "cell_type": "code",
   "execution_count": 67,
   "metadata": {},
   "outputs": [
    {
     "data": {
      "text/html": [
       "<div>\n",
       "<style scoped>\n",
       "    .dataframe tbody tr th:only-of-type {\n",
       "        vertical-align: middle;\n",
       "    }\n",
       "\n",
       "    .dataframe tbody tr th {\n",
       "        vertical-align: top;\n",
       "    }\n",
       "\n",
       "    .dataframe thead th {\n",
       "        text-align: right;\n",
       "    }\n",
       "</style>\n",
       "<table border=\"1\" class=\"dataframe\">\n",
       "  <thead>\n",
       "    <tr style=\"text-align: right;\">\n",
       "      <th></th>\n",
       "      <th>Vocab</th>\n",
       "      <th>Urls</th>\n",
       "      <th>Emojis</th>\n",
       "      <th>Signs</th>\n",
       "      <th>UPS</th>\n",
       "      <th>id</th>\n",
       "      <th>days</th>\n",
       "    </tr>\n",
       "  </thead>\n",
       "  <tbody>\n",
       "    <tr>\n",
       "      <td>0</td>\n",
       "      <td>6</td>\n",
       "      <td>0</td>\n",
       "      <td>0</td>\n",
       "      <td>1</td>\n",
       "      <td>4</td>\n",
       "      <td>cqug90h</td>\n",
       "      <td>1</td>\n",
       "    </tr>\n",
       "    <tr>\n",
       "      <td>1</td>\n",
       "      <td>20</td>\n",
       "      <td>0</td>\n",
       "      <td>0</td>\n",
       "      <td>1</td>\n",
       "      <td>0</td>\n",
       "      <td>cqug90i</td>\n",
       "      <td>1</td>\n",
       "    </tr>\n",
       "    <tr>\n",
       "      <td>2</td>\n",
       "      <td>7</td>\n",
       "      <td>0</td>\n",
       "      <td>0</td>\n",
       "      <td>1</td>\n",
       "      <td>3</td>\n",
       "      <td>cqug90j</td>\n",
       "      <td>1</td>\n",
       "    </tr>\n",
       "    <tr>\n",
       "      <td>3</td>\n",
       "      <td>5</td>\n",
       "      <td>0</td>\n",
       "      <td>0</td>\n",
       "      <td>1</td>\n",
       "      <td>3</td>\n",
       "      <td>cqug90k</td>\n",
       "      <td>1</td>\n",
       "    </tr>\n",
       "    <tr>\n",
       "      <td>4</td>\n",
       "      <td>11</td>\n",
       "      <td>0</td>\n",
       "      <td>0</td>\n",
       "      <td>1</td>\n",
       "      <td>1</td>\n",
       "      <td>cqug90l</td>\n",
       "      <td>1</td>\n",
       "    </tr>\n",
       "    <tr>\n",
       "      <td>5</td>\n",
       "      <td>16</td>\n",
       "      <td>0</td>\n",
       "      <td>0</td>\n",
       "      <td>1</td>\n",
       "      <td>6</td>\n",
       "      <td>cqug90m</td>\n",
       "      <td>1</td>\n",
       "    </tr>\n",
       "    <tr>\n",
       "      <td>6</td>\n",
       "      <td>4</td>\n",
       "      <td>0</td>\n",
       "      <td>0</td>\n",
       "      <td>1</td>\n",
       "      <td>2</td>\n",
       "      <td>cqug90n</td>\n",
       "      <td>1</td>\n",
       "    </tr>\n",
       "    <tr>\n",
       "      <td>7</td>\n",
       "      <td>6</td>\n",
       "      <td>0</td>\n",
       "      <td>0</td>\n",
       "      <td>0</td>\n",
       "      <td>6</td>\n",
       "      <td>cqug90o</td>\n",
       "      <td>1</td>\n",
       "    </tr>\n",
       "    <tr>\n",
       "      <td>8</td>\n",
       "      <td>17</td>\n",
       "      <td>0</td>\n",
       "      <td>0</td>\n",
       "      <td>1</td>\n",
       "      <td>5</td>\n",
       "      <td>cqug90p</td>\n",
       "      <td>1</td>\n",
       "    </tr>\n",
       "    <tr>\n",
       "      <td>9</td>\n",
       "      <td>1</td>\n",
       "      <td>0</td>\n",
       "      <td>0</td>\n",
       "      <td>0</td>\n",
       "      <td>4</td>\n",
       "      <td>cqug90q</td>\n",
       "      <td>1</td>\n",
       "    </tr>\n",
       "    <tr>\n",
       "      <td>10</td>\n",
       "      <td>3</td>\n",
       "      <td>0</td>\n",
       "      <td>0</td>\n",
       "      <td>1</td>\n",
       "      <td>1</td>\n",
       "      <td>cqug90r</td>\n",
       "      <td>1</td>\n",
       "    </tr>\n",
       "    <tr>\n",
       "      <td>11</td>\n",
       "      <td>41</td>\n",
       "      <td>0</td>\n",
       "      <td>0</td>\n",
       "      <td>1</td>\n",
       "      <td>1</td>\n",
       "      <td>cqug90s</td>\n",
       "      <td>1</td>\n",
       "    </tr>\n",
       "    <tr>\n",
       "      <td>12</td>\n",
       "      <td>19</td>\n",
       "      <td>0</td>\n",
       "      <td>0</td>\n",
       "      <td>1</td>\n",
       "      <td>3</td>\n",
       "      <td>cqug90t</td>\n",
       "      <td>1</td>\n",
       "    </tr>\n",
       "    <tr>\n",
       "      <td>13</td>\n",
       "      <td>56</td>\n",
       "      <td>0</td>\n",
       "      <td>0</td>\n",
       "      <td>1</td>\n",
       "      <td>14</td>\n",
       "      <td>cqug90u</td>\n",
       "      <td>1</td>\n",
       "    </tr>\n",
       "    <tr>\n",
       "      <td>14</td>\n",
       "      <td>7</td>\n",
       "      <td>0</td>\n",
       "      <td>0</td>\n",
       "      <td>1</td>\n",
       "      <td>0</td>\n",
       "      <td>cqug90w</td>\n",
       "      <td>1</td>\n",
       "    </tr>\n",
       "    <tr>\n",
       "      <td>15</td>\n",
       "      <td>28</td>\n",
       "      <td>0</td>\n",
       "      <td>0</td>\n",
       "      <td>1</td>\n",
       "      <td>5</td>\n",
       "      <td>cqug90x</td>\n",
       "      <td>1</td>\n",
       "    </tr>\n",
       "    <tr>\n",
       "      <td>16</td>\n",
       "      <td>11</td>\n",
       "      <td>0</td>\n",
       "      <td>0</td>\n",
       "      <td>1</td>\n",
       "      <td>1</td>\n",
       "      <td>cqug90y</td>\n",
       "      <td>1</td>\n",
       "    </tr>\n",
       "    <tr>\n",
       "      <td>17</td>\n",
       "      <td>1</td>\n",
       "      <td>0</td>\n",
       "      <td>0</td>\n",
       "      <td>0</td>\n",
       "      <td>5</td>\n",
       "      <td>cqug90z</td>\n",
       "      <td>1</td>\n",
       "    </tr>\n",
       "    <tr>\n",
       "      <td>18</td>\n",
       "      <td>21</td>\n",
       "      <td>0</td>\n",
       "      <td>0</td>\n",
       "      <td>1</td>\n",
       "      <td>1</td>\n",
       "      <td>cqug910</td>\n",
       "      <td>1</td>\n",
       "    </tr>\n",
       "    <tr>\n",
       "      <td>19</td>\n",
       "      <td>25</td>\n",
       "      <td>0</td>\n",
       "      <td>0</td>\n",
       "      <td>1</td>\n",
       "      <td>1</td>\n",
       "      <td>cqug911</td>\n",
       "      <td>1</td>\n",
       "    </tr>\n",
       "  </tbody>\n",
       "</table>\n",
       "</div>"
      ],
      "text/plain": [
       "    Vocab  Urls  Emojis  Signs  UPS       id  days\n",
       "0       6     0       0      1    4  cqug90h     1\n",
       "1      20     0       0      1    0  cqug90i     1\n",
       "2       7     0       0      1    3  cqug90j     1\n",
       "3       5     0       0      1    3  cqug90k     1\n",
       "4      11     0       0      1    1  cqug90l     1\n",
       "5      16     0       0      1    6  cqug90m     1\n",
       "6       4     0       0      1    2  cqug90n     1\n",
       "7       6     0       0      0    6  cqug90o     1\n",
       "8      17     0       0      1    5  cqug90p     1\n",
       "9       1     0       0      0    4  cqug90q     1\n",
       "10      3     0       0      1    1  cqug90r     1\n",
       "11     41     0       0      1    1  cqug90s     1\n",
       "12     19     0       0      1    3  cqug90t     1\n",
       "13     56     0       0      1   14  cqug90u     1\n",
       "14      7     0       0      1    0  cqug90w     1\n",
       "15     28     0       0      1    5  cqug90x     1\n",
       "16     11     0       0      1    1  cqug90y     1\n",
       "17      1     0       0      0    5  cqug90z     1\n",
       "18     21     0       0      1    1  cqug910     1\n",
       "19     25     0       0      1    1  cqug911     1"
      ]
     },
     "execution_count": 67,
     "metadata": {},
     "output_type": "execute_result"
    }
   ],
   "source": [
    "# load features\n",
    "df2 = pd.read_csv('feats.csv',sep='\\t')\n",
    "df2.head(20)"
   ]
  },
  {
   "cell_type": "markdown",
   "metadata": {},
   "source": [
    "# Analyzing features"
   ]
  },
  {
   "cell_type": "code",
   "execution_count": 27,
   "metadata": {},
   "outputs": [
    {
     "data": {
      "text/plain": [
       "(1477359, 1458822)"
      ]
     },
     "execution_count": 27,
     "metadata": {},
     "output_type": "execute_result"
    }
   ],
   "source": [
    "len(df2),len(df3)"
   ]
  },
  {
   "cell_type": "code",
   "execution_count": 22,
   "metadata": {},
   "outputs": [
    {
     "data": {
      "text/plain": [
       "<matplotlib.axes._subplots.AxesSubplot at 0x7f12b8bdb160>"
      ]
     },
     "execution_count": 22,
     "metadata": {},
     "output_type": "execute_result"
    },
    {
     "data": {
      "image/png": "[encoded data removed]",
      "text/plain": [
       "<Figure size 432x288 with 1 Axes>"
      ]
     },
     "metadata": {
      "needs_background": "light"
     },
     "output_type": "display_data"
    }
   ],
   "source": [
    "#plot hist UPS\n",
    "avg = df2['UPS'].mean()\n",
    "df3 = df2[np.abs(df2['UPS']-avg) <= df2['UPS'].std()]\n",
    "df3['UPS'].hist(bins=10)"
   ]
  },
  {
   "cell_type": "code",
   "execution_count": 23,
   "metadata": {},
   "outputs": [
    {
     "data": {
      "image/png": "[encoded data removed]",
      "text/plain": [
       "<Figure size 432x288 with 1 Axes>"
      ]
     },
     "metadata": {
      "needs_background": "light"
     },
     "output_type": "display_data"
    }
   ],
   "source": [
    "# plot\n",
    "plt.scatter( df3['Vocab'],df3['UPS'])\n",
    "plt.show()"
   ]
  },
  {
   "cell_type": "code",
   "execution_count": 24,
   "metadata": {},
   "outputs": [
    {
     "data": {
      "image/png": "[encoded data removed]",
      "text/plain": [
       "<Figure size 432x288 with 1 Axes>"
      ]
     },
     "metadata": {
      "needs_background": "light"
     },
     "output_type": "display_data"
    }
   ],
   "source": [
    "# plot\n",
    "plt.scatter( df3['Urls'],df3['UPS'])\n",
    "plt.show()"
   ]
  },
  {
   "cell_type": "code",
   "execution_count": 25,
   "metadata": {},
   "outputs": [
    {
     "data": {
      "image/png": "[encoded data removed]",
      "text/plain": [
       "<Figure size 432x288 with 1 Axes>"
      ]
     },
     "metadata": {
      "needs_background": "light"
     },
     "output_type": "display_data"
    }
   ],
   "source": [
    "# plot\n",
    "plt.scatter(df3['Emojis'],df3['UPS'])\n",
    "plt.show()"
   ]
  },
  {
   "cell_type": "code",
   "execution_count": 26,
   "metadata": {},
   "outputs": [
    {
     "data": {
      "image/png": "[encoded data removed]",
      "text/plain": [
       "<Figure size 432x288 with 1 Axes>"
      ]
     },
     "metadata": {
      "needs_background": "light"
     },
     "output_type": "display_data"
    }
   ],
   "source": [
    "# plot\n",
    "plt.scatter(df2['days'],df2['UPS'])\n",
    "plt.show()"
   ]
  },
  {
   "cell_type": "markdown",
   "metadata": {},
   "source": [
    "# Models\n",
    "## XGBoost"
   ]
  },
  {
   "cell_type": "code",
   "execution_count": 70,
   "metadata": {},
   "outputs": [],
   "source": [
    "ref = abs(df2['UPS'].min())"
   ]
  },
  {
   "cell_type": "code",
   "execution_count": 86,
   "metadata": {},
   "outputs": [
    {
     "name": "stderr",
     "output_type": "stream",
     "text": [
      "/home/jeslev/anaconda3/envs/reddit/lib/python3.7/site-packages/xgboost/core.py:587: FutureWarning: Series.base is deprecated and will be removed in a future version\n",
      "  if getattr(data, 'base', None) is not None and \\\n"
     ]
    },
    {
     "name": "stdout",
     "output_type": "stream",
     "text": [
      "[15:11:05] WARNING: /home/conda/feedstock_root/build_artifacts/xgboost_1566327313563/work/src/objective/regression_obj.cu:152: reg:linear is now deprecated in favor of reg:squarederror.\n"
     ]
    },
    {
     "data": {
      "text/plain": [
       "7.425111682909605"
      ]
     },
     "execution_count": 86,
     "metadata": {},
     "output_type": "execute_result"
    }
   ],
   "source": [
    "#X = df2[['Vocab','days']]\n",
    "X = df2[['Vocab','Urls','Emojis','Signs','days']]\n",
    "y = df2['UPS'].copy()\n",
    "y += ref + 1e-6\n",
    "y = np.log(y)\n",
    "X_train, X_test, y_train, y_test = train_test_split(X, y, test_size=0.33, random_state=4)\n",
    "\n",
    "\n",
    "xgb_model = xgb.XGBRegressor(objective=\"reg:linear\", random_state=42, eval_metric='mae', n_estimators=100)\n",
    "\n",
    "\n",
    "xgb_model.fit(X_train, y_train)\n",
    "\n",
    "y_pred = xgb_model.predict(X_test)\n",
    "\n",
    "y_pred = np.exp(y_pred)-ref-1e-6\n",
    "y_test = np.exp(y_test)-ref-1e-6\n",
    "#round results\n",
    "#y_pred = y_pred.round()\n",
    "#pd.to_numeric(y_pred, downcast='signed')\n",
    "\n",
    "mae=mean_absolute_error(y_test, y_pred)\n",
    "mae"
   ]
  },
  {
   "cell_type": "code",
   "execution_count": 81,
   "metadata": {},
   "outputs": [
    {
     "name": "stderr",
     "output_type": "stream",
     "text": [
      "/home/jeslev/anaconda3/envs/reddit/lib/python3.7/site-packages/xgboost/core.py:587: FutureWarning: Series.base is deprecated and will be removed in a future version\n",
      "  if getattr(data, 'base', None) is not None and \\\n"
     ]
    },
    {
     "name": "stdout",
     "output_type": "stream",
     "text": [
      "[15:03:42] WARNING: /home/conda/feedstock_root/build_artifacts/xgboost_1566327313563/work/src/objective/regression_obj.cu:152: reg:linear is now deprecated in favor of reg:squarederror.\n"
     ]
    },
    {
     "data": {
      "text/plain": [
       "304.48606734254895"
      ]
     },
     "execution_count": 81,
     "metadata": {},
     "output_type": "execute_result"
    }
   ],
   "source": [
    "X = df2[['days']]\n",
    "y = df2['UPS'].copy()\n",
    "y += ref + 1e-6\n",
    "y = np.log(y)\n",
    "X_train, X_test, y_train, y_test = train_test_split(X, y, test_size=0.33, random_state=4)\n",
    "\n",
    "\n",
    "xgb_model = xgb.XGBRegressor(objective=\"reg:linear\", random_state=42, max_depth=4,eval_metric='mae', n_estimators=10)\n",
    "\n",
    "\n",
    "xgb_model.fit(X_train, y_train)\n",
    "\n",
    "y_pred = xgb_model.predict(X_test)\n",
    "\n",
    "y_pred = np.exp(y_pred)-ref-1e-6\n",
    "y_test = np.exp(y_test)-ref-1e-6\n",
    "#round results\n",
    "#y_pred = y_pred.round()\n",
    "#pd.to_numeric(y_pred, downcast='signed')\n",
    "\n",
    "mae=mean_absolute_error(y_test, y_pred)\n",
    "mae"
   ]
  },
  {
   "cell_type": "code",
   "execution_count": null,
   "metadata": {},
   "outputs": [],
   "source": [
    "pd.to_numeric(y_pred, downcast='signed'), y_pred"
   ]
  },
  {
   "cell_type": "code",
   "execution_count": 54,
   "metadata": {},
   "outputs": [
    {
     "data": {
      "text/plain": [
       "array([[0, 0, 0, ..., 0, 0, 0],\n",
       "       [0, 0, 0, ..., 0, 0, 0],\n",
       "       [0, 0, 0, ..., 0, 0, 0],\n",
       "       ...,\n",
       "       [0, 0, 0, ..., 0, 0, 0],\n",
       "       [0, 0, 0, ..., 0, 0, 0],\n",
       "       [0, 0, 0, ..., 0, 0, 0]])"
      ]
     },
     "execution_count": 54,
     "metadata": {},
     "output_type": "execute_result"
    }
   ],
   "source": [
    "confusion_matrix(y_test, y_pred)"
   ]
  },
  {
   "cell_type": "code",
   "execution_count": 55,
   "metadata": {},
   "outputs": [
    {
     "data": {
      "text/plain": [
       "<matplotlib.axes._subplots.AxesSubplot at 0x7f12b7d9d160>"
      ]
     },
     "execution_count": 55,
     "metadata": {},
     "output_type": "execute_result"
    },
    {
     "data": {
      "image/png": "[encoded data removed]",
      "text/plain": [
       "<Figure size 432x288 with 1 Axes>"
      ]
     },
     "metadata": {
      "needs_background": "light"
     },
     "output_type": "display_data"
    }
   ],
   "source": [
    "xgb.plot_importance(xgb_model)"
   ]
  },
  {
   "cell_type": "code",
   "execution_count": null,
   "metadata": {},
   "outputs": [],
   "source": []
  }
 ],
 "metadata": {
  "kernelspec": {
   "display_name": "Reddit project",
   "language": "python",
   "name": "reddit"
  },
  "language_info": {
   "codemirror_mode": {
    "name": "ipython",
    "version": 3
   },
   "file_extension": ".py",
   "mimetype": "text/x-python",
   "name": "python",
   "nbconvert_exporter": "python",
   "pygments_lexer": "ipython3",
   "version": "3.7.3"
  }
 },
 "nbformat": 4,
 "nbformat_minor": 2
}
