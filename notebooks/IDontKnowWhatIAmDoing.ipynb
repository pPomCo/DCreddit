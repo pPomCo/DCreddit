{
 "cells": [
  {
   "cell_type": "code",
   "execution_count": 1,
   "metadata": {},
   "outputs": [],
   "source": [
    "from collections import Counter\n",
    "import sqlite3, math, csv\n",
    "\n",
    "import matplotlib.pyplot as plt\n",
    "%matplotlib inline\n",
    "#%matplotlib qt"
   ]
  },
  {
   "cell_type": "code",
   "execution_count": 2,
   "metadata": {},
   "outputs": [],
   "source": [
    "#db = \"/home/jeslev/Downloads/reddit-comments-may-2015/database.sqlite\"\n",
    "db = \"/home/jeslev/Downloads/sample_3days.sqlite\"\n",
    "\n",
    "conn = sqlite3.connect(db)\n",
    "c = conn.cursor()"
   ]
  },
  {
   "cell_type": "markdown",
   "metadata": {},
   "source": [
    "cpdef double controversy(long ups, long downs):\n",
    "\n",
    "    \"\"\"The controversy sort.\"\"\"\n",
    "    if downs <= 0 or ups <= 0: return 0\n",
    "    magnitude = ups + downs\n",
    "    balance = float(downs) / ups if ups > downs else float(ups) / downs\n",
    "    return magnitude ** balance  "
   ]
  },
  {
   "cell_type": "code",
   "execution_count": 21,
   "metadata": {},
   "outputs": [
    {
     "name": "stdout",
     "output_type": "stream",
     "text": [
      "(-1712, 6761)\n",
      "(0, 27)\n",
      "(0, 0)\n",
      "(-1712, 6761)\n",
      "(0, 1)\n"
     ]
    }
   ],
   "source": [
    "lines = c.execute(\"SELECT MIN(ups), MAX(ups) FROM May2015 \")\n",
    "\n",
    "for line in lines:\n",
    "    print(line)\n",
    "    \n",
    "lines = c.execute(\"SELECT MIN(gilded), MAX(gilded) FROM May2015 \")\n",
    "\n",
    "for line in lines:\n",
    "    print(line)\n",
    "    \n",
    "lines = c.execute(\"SELECT MIN(downs), MAX(downs) FROM May2015 \")\n",
    "\n",
    "for line in lines:\n",
    "    print(line)\n",
    "    \n",
    "lines = c.execute(\"SELECT MIN(score), MAX(score) FROM May2015 \")\n",
    "\n",
    "for line in lines:\n",
    "    print(line)\n",
    "    \n",
    "lines = c.execute(\"SELECT MIN(controversiality), MAX(controversiality) FROM May2015 \")\n",
    "\n",
    "for line in lines:\n",
    "    print(line)"
   ]
  },
  {
   "cell_type": "code",
   "execution_count": 20,
   "metadata": {},
   "outputs": [
    {
     "name": "stdout",
     "output_type": "stream",
     "text": [
      "('t3_34di91', 't1_cqug90g', 'soccer_jp', 0)\n",
      "('t3_34g8mx', 't1_cqug90h', 'nba', 0)\n",
      "('t3_34f7mc', 't1_cqug90i', 'politics', 0)\n",
      "('t3_34f9rh', 't1_cqug90j', 'AskReddit', 0)\n",
      "('t3_34fvry', 't1_cqug90k', 'AskReddit', 0)\n",
      "('t3_34gitq', 't1_cqug90l', 'bloodborne', 0)\n",
      "('t3_34fpen', 't1_cqug90m', 'relationships', 0)\n",
      "('t3_34e7uq', 't1_cqug90n', 'Tennesseetitans', 0)\n",
      "('t3_34gcwh', 't1_cqug90o', 'cigars', 0)\n",
      "('t3_34gmag', 't1_cqug90p', 'GlobalOffensive', 0)\n",
      "('t3_34gmq6', 't1_cqug90q', 'eagles', 0)\n",
      "('t3_34eznn', 't1_cqug90r', 'smashbros', 0)\n",
      "('t3_3479aj', 't1_cqug90s', 'makinghiphop', 0)\n",
      "('t3_34g2ci', 't1_cqug90t', 'GoogleCardboard', 0)\n",
      "('t3_34f8k8', 't1_cqug90u', 'offmychest', 0)\n",
      "('t3_34gj3a', 't1_cqug90v', 'nrl', 0)\n",
      "('t3_34g58c', 't1_cqug90w', 'elderscrollsonline', 0)\n",
      "('t3_34fmtj', 't1_cqug90x', 'childfree', 0)\n",
      "('t3_34ga1g', 't1_cqug90y', 'ExNoContact', 0)\n",
      "('t3_34ffo5', 't1_cqug90z', 'AskReddit', 0)\n"
     ]
    }
   ],
   "source": [
    "lines = c.execute(\"SELECT link_id,name,subreddit,controversiality FROM May2015 LIMIT 20\")\n",
    "\n",
    "for line in lines:\n",
    "    print(line)"
   ]
  },
  {
   "cell_type": "code",
   "execution_count": 22,
   "metadata": {},
   "outputs": [
    {
     "name": "stdout",
     "output_type": "stream",
     "text": [
      "(2611449,)\n",
      "(54504410,)\n"
     ]
    }
   ],
   "source": [
    "# total users\n",
    "lines = c.execute(\"SELECT count( distinct(author) )  FROM May2015\")\n",
    "\n",
    "for line in lines:\n",
    "    print(line)\n",
    "\n",
    "# total comments\n",
    "lines = c.execute(\"SELECT count(*) FROM May2015\")\n",
    "\n",
    "for line in lines:\n",
    "    print(line)"
   ]
  },
  {
   "cell_type": "code",
   "execution_count": 23,
   "metadata": {},
   "outputs": [
    {
     "name": "stdout",
     "output_type": "stream",
     "text": [
      "(50138,)\n"
     ]
    }
   ],
   "source": [
    "# total subreddits\n",
    "lines = c.execute(\"SELECT count( distinct(subreddit_id) ) FROM May2015\")\n",
    "\n",
    "for line in lines:\n",
    "    print(line)\n",
    "#"
   ]
  },
  {
   "cell_type": "code",
   "execution_count": 76,
   "metadata": {},
   "outputs": [],
   "source": [
    "# comments per user\n",
    "lines = c.execute(\"SELECT totCmnt, count(*) as totUsers FROM (SELECT author, count(*) as totCmnt FROM May2015 GROUP BY author) WHERE totCmnt<1000 GROUP BY totCmnt\")\n",
    "\n",
    "#for line in lines:\n",
    "#    print(line)"
   ]
  },
  {
   "cell_type": "code",
   "execution_count": 77,
   "metadata": {},
   "outputs": [
    {
     "data": {
      "text/plain": [
       "48624328"
      ]
     },
     "execution_count": 77,
     "metadata": {},
     "output_type": "execute_result"
    }
   ],
   "source": [
    "# verify query\n",
    "freq = dict()\n",
    "for line in lines:\n",
    "    freq[line[0]] = line[1]\n",
    "\n",
    "tot = 0\n",
    "for k,v in freq.items():\n",
    "    tot+=k*v\n",
    "\n",
    "tot"
   ]
  },
  {
   "cell_type": "code",
   "execution_count": 79,
   "metadata": {},
   "outputs": [
    {
     "data": {
      "text/plain": [
       "89.21173167455623"
      ]
     },
     "execution_count": 79,
     "metadata": {},
     "output_type": "execute_result"
    }
   ],
   "source": [
    "tot/54504410*100"
   ]
  },
  {
   "cell_type": "code",
   "execution_count": 75,
   "metadata": {},
   "outputs": [
    {
     "name": "stdout",
     "output_type": "stream",
     "text": [
      "[1812309, 2388066, 2506951, 2611437]\n"
     ]
    },
    {
     "data": {
      "image/png": "[encoded data removed]",
      "text/plain": [
       "<Figure size 432x288 with 1 Axes>"
      ]
     },
     "metadata": {
      "needs_background": "light"
     },
     "output_type": "display_data"
    }
   ],
   "source": [
    "limits = [10, 50, 100,9000]\n",
    "xList = [i for i in range(1,len(limits)+1)]\n",
    "yList = [0]*len(xList)\n",
    "\n",
    "for k,v in freq.items():\n",
    "    for idx,limit in enumerate(xList):\n",
    "        if k<limits[idx]:\n",
    "            yList[idx]+=v\n",
    "\n",
    "print(yList)\n",
    "plt.bar(xList, yList )\n",
    "plt.show()"
   ]
  },
  {
   "cell_type": "code",
   "execution_count": 66,
   "metadata": {},
   "outputs": [
    {
     "data": {
      "text/plain": [
       "[]"
      ]
     },
     "execution_count": 66,
     "metadata": {},
     "output_type": "execute_result"
    }
   ],
   "source": [
    "[ (k,v) for k,v in freq.items() if k>100000]"
   ]
  },
  {
   "cell_type": "code",
   "execution_count": null,
   "metadata": {},
   "outputs": [],
   "source": [
    "# comments per user\n",
    "lines = c.execute(\"SELECT author, count(*) as totCmnt FROM May2015 GROUP BY author ORDER BY totCmnt DESC \")\n",
    "\n",
    "for line in lines:\n",
    "    print(line)\n",
    "    \n",
    "# ('[deleted]', 3457435)\n",
    "# ('AutoModerator', 286461)\n",
    "# ('autowikibot', 17805)\n",
    "# ('TweetsInCommentsBot', 16375)\n",
    "# ('TweetPoster', 14046)\n",
    "# ('TrollaBot', 12886)\n",
    "# ('MTGCardFetcher', 12559)\n",
    "# ('havoc_bot', 12490)\n",
    "# ('TotesMessenger', 11626)\n",
    "# ('TheNitromeFan', 11135)\n",
    "# ('PoliticBot', 10794)\n",
    "# ('autotldr', 10339)\n",
    "# ('Late_Night_Grumbler', 8512)\n",
    "# ('SharksPwn', 8442)\n",
    "# ('WritingPromptsRobot', 7432)\n",
    "# ('atomicimploder', 7319)\n",
    "# ('Marvelvsdc00', 7134)\n",
    "# ('SxeRpw', 6576)\n",
    "# ('fyrechild', 6514)\n",
    "# ('BiagioLargo', 6083)\n",
    "# ('Thaddeus-J-Spiderman', 6002)\n",
    "# ('imgurtranscriber', 5891)\n",
    "# ('Removedpixel', 5487)\n",
    "# ('Car5V', 5477)\n",
    "# ('AttackOnHaseeb', 5429)\n",
    "# ('PriceZombie', 5417)\n",
    "# ('hit_bot', 5392)\n",
    "# ('sufficiency_bot', 5139)\n",
    "# ('domoarigatobtfcboto', 5109)\n",
    "# ('rollme', 5100)\n",
    "# ('GOTradeRuleBot', 5013)\n",
    "# ('pineapple_lumps', 4983)\n",
    "# ('Gueltro', 4807)\n",
    "# ('ttumblrbots', 4684)\n",
    "# ('Lunas_Disciple', 4498)\n",
    "# ('ContentForager', 4341)\n",
    "# ('jesus0nadinosaur', 4310)\n",
    "# ('catgirl64', 4191)\n",
    "# ('CMDRCharlesShepard', 4175)\n",
    "# ('NoBreadsticks', 4134)\n",
    "# ('Google_Panda', 3985)\n",
    "# ('tipnyan', 3977)\n",
    "# ('MayTentacleBeWithYee', 3976)\n",
    "# ('Redeemed_King', 3965)\n",
    "# ('RealtechPostBot', 3881)\n",
    "# ('CallMeEzra', 3838)\n",
    "# ('Dancatpro', 3828)\n",
    "# ('reddtipbot', 3729)"
   ]
  },
  {
   "cell_type": "code",
   "execution_count": 46,
   "metadata": {},
   "outputs": [
    {
     "name": "stdout",
     "output_type": "stream",
     "text": [
      "(-1712, 6761, 5.735811010521901)\n"
     ]
    }
   ],
   "source": [
    "# avg ups per subreddit\n",
    "lines = c.execute(\"SELECT  MIN(ups), MAX(ups), AVG(ups)  FROM May2015 \")\n",
    "for line in lines:\n",
    "    print(line)"
   ]
  },
  {
   "cell_type": "code",
   "execution_count": 81,
   "metadata": {},
   "outputs": [],
   "source": [
    "# avg ups per subreddit\n",
    "lines = c.execute(\"SELECT subreddit_id, subreddit, MIN(ups), MAX(ups), AVG(ups)  FROM May2015 GROUP BY subreddit_id\")"
   ]
  },
  {
   "cell_type": "code",
   "execution_count": 82,
   "metadata": {},
   "outputs": [
    {
     "name": "stdout",
     "output_type": "stream",
     "text": [
      "('t5_1a8ah', 'obama', -20, 18, 1.6433734939759037)\n",
      "('t5_1efbr', 'ads', -8, 12, 1.297872340425532)\n",
      "('t5_1rqwi', 'netsec', -46, 300, 5.52317880794702)\n",
      "('t5_21n6', 'features', 0, 3, 1.0)\n",
      "('t5_21nj', 'request', -1, 2, 1.1363636363636365)\n",
      "('t5_21of', 'olympics', -1, 38, 4.577981651376147)\n",
      "('t5_22i0', 'de', -74, 146, 4.341672152732061)\n",
      "('t5_22i2', 'es', -10, 6, 1.108910891089109)\n",
      "('t5_22i3', 'ko', 1, 1, 1.0)\n",
      "('t5_22i6', 'ja', -1, 2, 0.7209302325581395)\n",
      "('t5_2478', 'tr', 2, 2, 2.0)\n",
      "('t5_247b', 'eu', 1, 2, 1.5)\n",
      "('t5_247c', 'it', 1, 2, 1.2)\n",
      "('t5_247d', 'nl', 1, 1, 1.0)\n",
      "('t5_247e', 'no', 0, 4, 1.7073170731707317)\n",
      "('t5_247h', 'ca', 1, 1, 1.0)\n",
      "('t5_247i', 'ru', 0, 1, 0.9473684210526315)\n",
      "('t5_2cneq', 'politics', -332, 3942, 5.386996941945967)\n",
      "('t5_2fwo', 'programming', -119, 2308, 6.280415557654331)\n",
      "('t5_2h84o', 'bugs', -1, 5, 1.4282178217821782)\n",
      "('t5_2qgzg', 'business', -62, 276, 3.374064837905237)\n",
      "('t5_2qgzt', 'gadgets', -54, 2763, 5.246812060541056)\n",
      "('t5_2qgzy', 'sports', -113, 3685, 8.458008386565819)\n",
      "('t5_2qh03', 'gaming', -812, 5116, 8.862787704316776)\n",
      "('t5_2qh0f', 'entertainment', -128, 198, 4.639763779527559)\n",
      "('t5_2qh0k', 'cogsci', -19, 39, 3.068345323741007)\n",
      "('t5_2qh0n', 'math', -79, 368, 4.514948326771654)\n",
      "('t5_2qh0p', 'robotics', -7, 36, 2.31285367825384)\n",
      "('t5_2qh0r', 'ronpaul', -22, 23, 2.230392156862745)\n",
      "('t5_2qh0s', 'comics', -465, 1726, 10.893909348441927)\n",
      "('t5_2qh0u', 'pics', -1712, 5508, 11.162436105717795)\n",
      "('t5_2qh0w', 'torrents', -49, 160, 2.233688415446072)\n"
     ]
    },
    {
     "ename": "KeyboardInterrupt",
     "evalue": "",
     "output_type": "error",
     "traceback": [
      "\u001b[0;31m---------------------------------------------------------------------------\u001b[0m",
      "\u001b[0;31mKeyboardInterrupt\u001b[0m                         Traceback (most recent call last)",
      "\u001b[0;32m<ipython-input-82-0a02239ae871>\u001b[0m in \u001b[0;36m<module>\u001b[0;34m\u001b[0m\n\u001b[0;32m----> 1\u001b[0;31m \u001b[0;32mfor\u001b[0m \u001b[0mline\u001b[0m \u001b[0;32min\u001b[0m \u001b[0mlines\u001b[0m\u001b[0;34m:\u001b[0m\u001b[0;34m\u001b[0m\u001b[0;34m\u001b[0m\u001b[0m\n\u001b[0m\u001b[1;32m      2\u001b[0m     \u001b[0mprint\u001b[0m\u001b[0;34m(\u001b[0m\u001b[0mline\u001b[0m\u001b[0;34m)\u001b[0m\u001b[0;34m\u001b[0m\u001b[0;34m\u001b[0m\u001b[0m\n",
      "\u001b[0;31mKeyboardInterrupt\u001b[0m: "
     ]
    }
   ],
   "source": [
    "for line in lines:\n",
    "    print(line)"
   ]
  },
  {
   "cell_type": "code",
   "execution_count": 4,
   "metadata": {},
   "outputs": [
    {
     "name": "stdout",
     "output_type": "stream",
     "text": [
      "('t5_2qh1i', 'AskReddit', 4234970)\n",
      "('t5_2rfxx', 'leagueoflegends', 1223184)\n",
      "('t5_2qo4s', 'nba', 756195)\n",
      "('t5_2qh33', 'funny', 745916)\n",
      "('t5_2qh0u', 'pics', 630925)\n",
      "('t5_2qmg3', 'nfl', 566656)\n",
      "('t5_2sgp1', 'pcmasterrace', 557307)\n",
      "('t5_2qh1e', 'videos', 556065)\n",
      "('t5_2qh3l', 'news', 548287)\n",
      "('t5_2qqjc', 'todayilearned', 519910)\n",
      "('t5_2vq0w', 'DestinyTheGame', 491904)\n",
      "('t5_2qh13', 'worldnews', 490354)\n",
      "('t5_2qi58', 'soccer', 489966)\n",
      "('t5_2s580', 'DotA2', 466976)\n",
      "('t5_2s7tt', 'AdviceAnimals', 442396)\n",
      "('t5_2qh61', 'WTF', 418830)\n",
      "('t5_2sqho', 'GlobalOffensive', 406439)\n",
      "('t5_2qiel', 'hockey', 403761)\n",
      "('t5_2qh3s', 'movies', 376601)\n",
      "('t5_2sljg', 'SquaredCircle', 361540)\n"
     ]
    }
   ],
   "source": [
    "# most popular subreddits by comments\n",
    "lines = c.execute(\"SELECT subreddit_id, subreddit, count(*) as FreqCmt  FROM May2015 GROUP BY subreddit_id ORDER BY FreqCmt DESC LIMIT 20\")\n",
    "# lines = c.execute(\"SELECT subreddit_id, subreddit, count(*) as FreqCmt, count(distinct(author)) as totUsers ,MIN(ups), MAX(ups), AVG(ups)  FROM May2015 GROUP BY subreddit_id ORDER BY FreqCmt DESC LIMIT 20\")\n",
    "subid = []\n",
    "for line in lines:\n",
    "    print(line)\n",
    "    subid.append(line[1])"
   ]
  },
  {
   "cell_type": "code",
   "execution_count": 6,
   "metadata": {},
   "outputs": [
    {
     "name": "stdout",
     "output_type": "stream",
     "text": [
      "('t5_2qh1i', 'AskReddit', 4234970, 570735, -333, 6761, 12.606223656838184)\n",
      "('t5_2rfxx', 'leagueoflegends', 1223184, 119324, -438, 4250, 5.679024578477155)\n",
      "('t5_2qo4s', 'nba', 756195, 45035, -304, 3739, 8.559523667837)\n",
      "('t5_2qh33', 'funny', 745916, 224081, -618, 5642, 11.30022013202559)\n",
      "('t5_2qh0u', 'pics', 630925, 205311, -1712, 5508, 11.162436105717795)\n",
      "('t5_2qmg3', 'nfl', 566656, 41594, -422, 4416, 8.628236531511181)\n",
      "('t5_2sgp1', 'pcmasterrace', 557307, 91913, -237, 3867, 4.167658041259126)\n",
      "('t5_2qh1e', 'videos', 556065, 157630, -703, 5205, 11.840430525208385)\n",
      "('t5_2qh3l', 'news', 548287, 98737, -656, 5523, 7.807642712666906)\n",
      "('t5_2qqjc', 'todayilearned', 519910, 147096, -1034, 5065, 11.093246908118713)\n",
      "('t5_2vq0w', 'DestinyTheGame', 491904, 37009, -257, 1340, 2.937312971636742)\n",
      "('t5_2qh13', 'worldnews', 490354, 99264, -280, 5387, 7.400424999082295)\n",
      "('t5_2qi58', 'soccer', 489966, 41649, -408, 4186, 10.018582922080308)\n",
      "('t5_2s580', 'DotA2', 466976, 41467, -367, 2446, 4.678431011443843)\n",
      "('t5_2s7tt', 'AdviceAnimals', 442396, 115816, -504, 5260, 10.675098780278303)\n",
      "('t5_2qh61', 'WTF', 418830, 126644, -412, 5246, 12.512281832724494)\n",
      "('t5_2sqho', 'GlobalOffensive', 406439, 46687, -205, 3151, 4.132315058348239)\n",
      "('t5_2qiel', 'hockey', 403761, 25569, -261, 2688, 6.32406299766446)\n",
      "('t5_2qh3s', 'movies', 376601, 92486, -549, 4447, 9.400118427725896)\n",
      "('t5_2sljg', 'SquaredCircle', 361540, 20378, -234, 981, 6.481692205565083)\n"
     ]
    }
   ],
   "source": [
    "for sub in subid:\n",
    "    lines = c.execute(\"SELECT subreddit_id, subreddit, count(*) as FreqCmt, count(distinct(author)) as totUsers ,MIN(ups), MAX(ups), AVG(ups)  FROM May2015 WHERE subreddit='\"+sub+\"'\" )\n",
    "    for line in lines:\n",
    "        print(line)"
   ]
  },
  {
   "cell_type": "code",
   "execution_count": 7,
   "metadata": {},
   "outputs": [
    {
     "name": "stdout",
     "output_type": "stream",
     "text": [
      "('t5_2w93y', 'thewitcher3', 3457435)\n",
      "('t5_2qh1i', 'AskReddit', 286461)\n",
      "('t5_2tcwa', 'Glitch_in_the_Matrix', 17805)\n",
      "('t5_2rfxx', 'leagueoflegends', 16375)\n",
      "('t5_2qi5w', 'eagles', 14046)\n",
      "('t5_2s505', 'RotMG', 12886)\n",
      "('t5_2sbcz', 'custommagic', 12559)\n",
      "('t5_2xlcq', 'havoc_bot', 12490)\n",
      "('t5_2qimj', 'formula1', 11626)\n",
      "('t5_2u9jq', 'counting', 11135)\n",
      "('t5_2qh28', 'Stuff', 10794)\n",
      "('t5_32c70', 'NotYourMothersReddit', 10339)\n",
      "('t5_2qh1i', 'AskReddit', 8512)\n",
      "('t5_32yod', 'SupersRP', 8442)\n",
      "('t5_2s3nb', 'WritingPrompts', 7432)\n",
      "('t5_2u9jq', 'counting', 7319)\n",
      "('t5_3055e', 'OmniversePenitentiary', 7134)\n",
      "('t5_2sljg', 'SquaredCircle', 6576)\n",
      "('t5_37nk4', 'AsTheClockTurns', 6514)\n",
      "('t5_2r8lo', 'dragonage', 6083)\n"
     ]
    }
   ],
   "source": [
    "# most popular subreddits by  authors\n",
    "lines = c.execute(\"SELECT subreddit_id, subreddit, count(*) as FreqCmt  FROM May2015 GROUP BY author ORDER BY FreqCmt DESC LIMIT 20\")\n",
    "for line in lines:\n",
    "    print(line)"
   ]
  },
  {
   "cell_type": "code",
   "execution_count": null,
   "metadata": {},
   "outputs": [],
   "source": [
    "# most popular subreddits by  authors\n",
    "lines = c.execute(\"SELECT avgC, count(*) as totUsers FROM (SELECT author, avg(controversiality) as avgC FROM May2015 GROUP BY author)  GROUP BY avgC LIMIT 50\")\n",
    "# verify query\n",
    "freq = dict()\n",
    "for line in lines:\n",
    "    freq[line[0]] = line[1]\n",
    "\n",
    "tot = 0\n",
    "for k,v in freq.items():\n",
    "    tot+=k*v\n",
    "\n",
    "tot"
   ]
  },
  {
   "cell_type": "code",
   "execution_count": 5,
   "metadata": {},
   "outputs": [
    {
     "name": "stdout",
     "output_type": "stream",
     "text": [
      "(0,)\n",
      "(1,)\n"
     ]
    }
   ],
   "source": [
    "# most popular subreddits by  authors\n",
    "lines = c.execute(\"SELECT DISTINCT controversiality FROM May2015  LIMIT 20\")\n",
    "for line in lines:\n",
    "    print(line)"
   ]
  },
  {
   "cell_type": "code",
   "execution_count": 14,
   "metadata": {},
   "outputs": [],
   "source": [
    "# comments vs UPS\n",
    "cut = 100\n",
    "limits = [ i for i in range(-1800, 6800, cut) ]\n",
    "limits = [-1800, -800, -400, -200, 0, 50,100, 200, 1200, 2200, 3200, 4200, 5200, 6200]\n",
    "freqs = [0] * len(limits)\n",
    "lines = c.execute(\"SELECT score, count(*) AS Freq FROM May2015 GROUP BY score ORDER BY score DESC\")\n",
    "for line in lines:\n",
    "    for idx,i in enumerate(limits):\n",
    "        if idx==0:\n",
    "            continue\n",
    "        if line[0]>= limits[idx-1] and line[0]<limits[idx]:\n",
    "            freqs[idx]+=line[1]"
   ]
  },
  {
   "cell_type": "code",
   "execution_count": 16,
   "metadata": {},
   "outputs": [
    {
     "data": {
      "image/png": "[encoded data removed]",
      "text/plain": [
       "<Figure size 432x288 with 1 Axes>"
      ]
     },
     "metadata": {
      "needs_background": "light"
     },
     "output_type": "display_data"
    }
   ],
   "source": [
    "#lfreqs = [math.log(f) if f > 0 else 0 for f in freqs ]\n",
    "lfreqs = [f for f in freqs ]\n",
    "#label = [str(idx+1) if i!=0 else '0'for idx,i in enumerate(limits)]\n",
    "label = [str(i) for i in limits]\n",
    "plt.bar(label, lfreqs )\n",
    "plt.show()"
   ]
  },
  {
   "cell_type": "code",
   "execution_count": 17,
   "metadata": {},
   "outputs": [
    {
     "data": {
      "image/png": "[encoded data removed]",
      "text/plain": [
       "<Figure size 432x288 with 1 Axes>"
      ]
     },
     "metadata": {
      "needs_background": "light"
     },
     "output_type": "display_data"
    }
   ],
   "source": [
    "lfreqs = [math.log(f) if f > 0 else 0 for f in freqs ]\n",
    "#lfreqs = [f for f in freqs ]\n",
    "#label = [str('+') if i>0 else '-'for i in limits]\n",
    "label = [str(i) for i in limits]\n",
    "plt.bar(label, lfreqs )\n",
    "plt.show()"
   ]
  },
  {
   "cell_type": "markdown",
   "metadata": {},
   "source": [
    "# Cleaning "
   ]
  },
  {
   "cell_type": "code",
   "execution_count": 4,
   "metadata": {},
   "outputs": [],
   "source": [
    "# remove users with lots of comments or names with \"bot\" within\n",
    "lines = c.execute(\"SELECT author, count(*) as totCmnt FROM May2015 GROUP BY author ORDER BY totCmnt DESC \")\n",
    "banned_users =[]\n",
    "for line in lines:\n",
    "    if line[1]<2000:\n",
    "        break\n",
    "    author = line[0]\n",
    "    if line[1]>7000:\n",
    "        banned_users.append(author)\n",
    "        continue\n",
    "    if author.lower()[:-3] == \"bot\":\n",
    "        banned_users.append(author)\n",
    "    "
   ]
  },
  {
   "cell_type": "code",
   "execution_count": 5,
   "metadata": {},
   "outputs": [
    {
     "data": {
      "text/plain": [
       "['[deleted]',\n",
       " 'AutoModerator',\n",
       " 'autowikibot',\n",
       " 'TweetsInCommentsBot',\n",
       " 'TweetPoster',\n",
       " 'TrollaBot',\n",
       " 'MTGCardFetcher',\n",
       " 'havoc_bot',\n",
       " 'TotesMessenger',\n",
       " 'TheNitromeFan',\n",
       " 'PoliticBot',\n",
       " 'autotldr',\n",
       " 'Late_Night_Grumbler',\n",
       " 'SharksPwn',\n",
       " 'WritingPromptsRobot',\n",
       " 'atomicimploder',\n",
       " 'Marvelvsdc00']"
      ]
     },
     "execution_count": 5,
     "metadata": {},
     "output_type": "execute_result"
    }
   ],
   "source": [
    "banned_users"
   ]
  },
  {
   "cell_type": "code",
   "execution_count": 6,
   "metadata": {},
   "outputs": [
    {
     "data": {
      "text/plain": [
       "\"'', '[deleted]', 'AutoModerator', 'autowikibot', 'TweetsInCommentsBot', 'TweetPoster', 'TrollaBot', 'MTGCardFetcher', 'havoc_bot', 'TotesMessenger', 'TheNitromeFan', 'PoliticBot', 'autotldr', 'Late_Night_Grumbler', 'SharksPwn', 'WritingPromptsRobot', 'atomicimploder', 'Marvelvsdc00'\""
      ]
     },
     "execution_count": 6,
     "metadata": {},
     "output_type": "execute_result"
    }
   ],
   "source": [
    "busers = \"''\"\n",
    "for u in banned_users:\n",
    "    busers += \", '\"+u+\"'\"\n",
    "busers"
   ]
  },
  {
   "cell_type": "code",
   "execution_count": null,
   "metadata": {},
   "outputs": [],
   "source": [
    "query = \"DELETE  FROM May2015 WHERE author IN  (\"+busers+\") \"\n",
    "#query\n",
    "\n",
    "l = c.execute(query)"
   ]
  },
  {
   "cell_type": "code",
   "execution_count": 12,
   "metadata": {},
   "outputs": [
    {
     "name": "stdout",
     "output_type": "stream",
     "text": [
      "0\n",
      "1000000\n",
      "2000000\n",
      "3000000\n",
      "4000000\n"
     ]
    },
    {
     "ename": "KeyboardInterrupt",
     "evalue": "",
     "output_type": "error",
     "traceback": [
      "\u001b[0;31m---------------------------------------------------------------------------\u001b[0m",
      "\u001b[0;31mKeyboardInterrupt\u001b[0m                         Traceback (most recent call last)",
      "\u001b[0;32m<ipython-input-12-3577a99ed6e4>\u001b[0m in \u001b[0;36m<module>\u001b[0;34m\u001b[0m\n\u001b[1;32m     14\u001b[0m         \u001b[0mnline\u001b[0m \u001b[0;34m=\u001b[0m \u001b[0;34m[\u001b[0m\u001b[0mc\u001b[0m \u001b[0;32mfor\u001b[0m \u001b[0mc\u001b[0m \u001b[0;32min\u001b[0m \u001b[0mline\u001b[0m\u001b[0;34m]\u001b[0m\u001b[0;34m\u001b[0m\u001b[0;34m\u001b[0m\u001b[0m\n\u001b[1;32m     15\u001b[0m         \u001b[0mnline\u001b[0m\u001b[0;34m[\u001b[0m\u001b[0;36m9\u001b[0m\u001b[0;34m]\u001b[0m \u001b[0;34m=\u001b[0m \u001b[0mnline\u001b[0m\u001b[0;34m[\u001b[0m\u001b[0;36m9\u001b[0m\u001b[0;34m]\u001b[0m\u001b[0;34m.\u001b[0m\u001b[0mreplace\u001b[0m\u001b[0;34m(\u001b[0m\u001b[0;34m\"\\n\"\u001b[0m\u001b[0;34m,\u001b[0m\u001b[0;34m\" \"\u001b[0m\u001b[0;34m)\u001b[0m\u001b[0;34m\u001b[0m\u001b[0;34m\u001b[0m\u001b[0m\n\u001b[0;32m---> 16\u001b[0;31m         \u001b[0mwriter\u001b[0m\u001b[0;34m.\u001b[0m\u001b[0mwriterow\u001b[0m\u001b[0;34m(\u001b[0m\u001b[0mnline\u001b[0m\u001b[0;34m)\u001b[0m\u001b[0;34m\u001b[0m\u001b[0;34m\u001b[0m\u001b[0m\n\u001b[0m\u001b[1;32m     17\u001b[0m         \u001b[0mcnt\u001b[0m \u001b[0;34m+=\u001b[0m\u001b[0;36m1\u001b[0m\u001b[0;34m\u001b[0m\u001b[0;34m\u001b[0m\u001b[0m\n",
      "\u001b[0;31mKeyboardInterrupt\u001b[0m: "
     ]
    }
   ],
   "source": [
    "\n",
    "lines = c.execute(query)\n",
    "cnt = 0\n",
    "with open(\"dbclean.csv\",\"w\") as csvfile:\n",
    "    writer = csv.writer(csvfile, delimiter='\\t')\n",
    "    q = \"created_utc\\tups\\tsubreddit_id\\tlink_id\\tname\\tsubreddit\\tid\\tgilded\\tauthor\\tbody\\tparent_id\"\n",
    "    writer.writerow(q.split(\"\\t\"))\n",
    "    for line in lines:\n",
    "        #result = \"\\t\".join(str(x) for x in line)\n",
    "        #print(line)\n",
    "        #print(result)\n",
    "        #break\n",
    "        if cnt%1000000 == 0:\n",
    "            print(cnt)\n",
    "        nline = [c for c in line]\n",
    "        nline[9] = nline[9].replace(\"\\n\",\" \")\n",
    "        writer.writerow(nline)\n",
    "        cnt +=1"
   ]
  },
  {
   "cell_type": "code",
   "execution_count": 26,
   "metadata": {},
   "outputs": [
    {
     "name": "stdout",
     "output_type": "stream",
     "text": [
      "(50591620,)\n"
     ]
    }
   ],
   "source": [
    "query = \"SELECT count(*) FROM \\\n",
    "                  (SELECT created_utc, ups, subreddit_id, link_id, name, subreddit, id, gilded, author, body,  parent_id \\\n",
    "                  FROM May2015) as T \\\n",
    "                  WHERE author NOT IN  (\"+busers+\") ORDER BY created_utc ASC \"\n",
    "lines = c.execute(query)\n",
    "for line in lines:\n",
    "    print(line)"
   ]
  },
  {
   "cell_type": "code",
   "execution_count": null,
   "metadata": {},
   "outputs": [],
   "source": []
  }
 ],
 "metadata": {
  "kernelspec": {
   "display_name": "Reddit project",
   "language": "python",
   "name": "reddit"
  },
  "language_info": {
   "codemirror_mode": {
    "name": "ipython",
    "version": 3
   },
   "file_extension": ".py",
   "mimetype": "text/x-python",
   "name": "python",
   "nbconvert_exporter": "python",
   "pygments_lexer": "ipython3",
   "version": "3.7.3"
  }
 },
 "nbformat": 4,
 "nbformat_minor": 2
}
